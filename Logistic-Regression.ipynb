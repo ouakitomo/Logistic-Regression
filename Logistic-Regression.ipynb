{
 "cells": [
  {
   "cell_type": "markdown",
   "metadata": {},
   "source": [
    "## Importing Libraries"
   ]
  },
  {
   "cell_type": "code",
   "execution_count": 1,
   "metadata": {},
<<<<<<< HEAD
   "outputs": [],
=======
>>>>>>> upstream/master
   "source": [
    "import pandas as pd\n",
    "import numpy as np\n",
    "import seaborn as sns\n",
    "import matplotlib.pyplot as plt\n",
    "%matplotlib inline\n",
    "import math\n",
    "import warnings\n",
    "warnings.filterwarnings('ignore')"
   ]
  },
  {
   "cell_type": "code",
   "execution_count": 2,
   "metadata": {},
   "outputs": [
    {
     "data": {
      "text/html": [
       "<div>\n",
       "<style scoped>\n",
       "    .dataframe tbody tr th:only-of-type {\n",
       "        vertical-align: middle;\n",
       "    }\n",
       "\n",
       "    .dataframe tbody tr th {\n",
       "        vertical-align: top;\n",
       "    }\n",
       "\n",
       "    .dataframe thead th {\n",
       "        text-align: right;\n",
       "    }\n",
       "</style>\n",
       "<table border=\"1\" class=\"dataframe\">\n",
       "  <thead>\n",
       "    <tr style=\"text-align: right;\">\n",
       "      <th></th>\n",
       "      <th>Survived</th>\n",
       "      <th>Pclass</th>\n",
       "      <th>Name</th>\n",
       "      <th>Sex</th>\n",
       "      <th>Age</th>\n",
       "      <th>Siblings/Spouses Aboard</th>\n",
       "      <th>Parents/Children Aboard</th>\n",
       "      <th>Fare</th>\n",
       "    </tr>\n",
       "  </thead>\n",
       "  <tbody>\n",
       "    <tr>\n",
       "      <th>0</th>\n",
       "      <td>0</td>\n",
       "      <td>3</td>\n",
       "      <td>Mr. Owen Harris Braund</td>\n",
       "      <td>male</td>\n",
       "      <td>22.0</td>\n",
       "      <td>1</td>\n",
       "      <td>0</td>\n",
       "      <td>7.2500</td>\n",
       "    </tr>\n",
       "    <tr>\n",
       "      <th>1</th>\n",
       "      <td>1</td>\n",
       "      <td>1</td>\n",
       "      <td>Mrs. John Bradley (Florence Briggs Thayer) Cum...</td>\n",
       "      <td>female</td>\n",
       "      <td>38.0</td>\n",
       "      <td>1</td>\n",
       "      <td>0</td>\n",
       "      <td>71.2833</td>\n",
       "    </tr>\n",
       "    <tr>\n",
       "      <th>2</th>\n",
       "      <td>1</td>\n",
       "      <td>3</td>\n",
       "      <td>Miss. Laina Heikkinen</td>\n",
       "      <td>female</td>\n",
       "      <td>26.0</td>\n",
       "      <td>0</td>\n",
       "      <td>0</td>\n",
       "      <td>7.9250</td>\n",
       "    </tr>\n",
       "    <tr>\n",
       "      <th>3</th>\n",
       "      <td>1</td>\n",
       "      <td>1</td>\n",
       "      <td>Mrs. Jacques Heath (Lily May Peel) Futrelle</td>\n",
       "      <td>female</td>\n",
       "      <td>35.0</td>\n",
       "      <td>1</td>\n",
       "      <td>0</td>\n",
       "      <td>53.1000</td>\n",
       "    </tr>\n",
       "    <tr>\n",
       "      <th>4</th>\n",
       "      <td>0</td>\n",
       "      <td>3</td>\n",
       "      <td>Mr. William Henry Allen</td>\n",
       "      <td>male</td>\n",
       "      <td>35.0</td>\n",
       "      <td>0</td>\n",
       "      <td>0</td>\n",
       "      <td>8.0500</td>\n",
       "    </tr>\n",
       "  </tbody>\n",
       "</table>\n",
       "</div>"
      ],
      "text/plain": [
       "   Survived  Pclass                                               Name  \\\n",
       "0         0       3                             Mr. Owen Harris Braund   \n",
       "1         1       1  Mrs. John Bradley (Florence Briggs Thayer) Cum...   \n",
       "2         1       3                              Miss. Laina Heikkinen   \n",
       "3         1       1        Mrs. Jacques Heath (Lily May Peel) Futrelle   \n",
       "4         0       3                            Mr. William Henry Allen   \n",
       "\n",
       "      Sex   Age  Siblings/Spouses Aboard  Parents/Children Aboard     Fare  \n",
       "0    male  22.0                        1                        0   7.2500  \n",
       "1  female  38.0                        1                        0  71.2833  \n",
       "2  female  26.0                        0                        0   7.9250  \n",
       "3  female  35.0                        1                        0  53.1000  \n",
       "4    male  35.0                        0                        0   8.0500  "
      ]
     },
     "execution_count": 2,
     "metadata": {},
     "output_type": "execute_result"
    }
   ],
   "source": [
    "titanic_data = pd.read_csv(\"titanic.csv\")\n",
    "titanic_data.head()"
   ]
  },
  {
   "cell_type": "markdown",
   "metadata": {},
   "source": [
    "## Analyzing Data"
   ]
  },
  {
   "cell_type": "code",
   "execution_count": 5,
   "metadata": {},
   "outputs": [
    {
     "data": {
      "text/plain": [
       "<matplotlib.axes._subplots.AxesSubplot at 0x7f56a79eeba8>"
      ]
     },
     "execution_count": 5,
     "metadata": {},
     "output_type": "execute_result"
    },
    {
     "data": {
      "image/png": "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\n",
      "text/plain": [
       "<Figure size 432x288 with 1 Axes>"
      ]
     },
     "metadata": {
      "needs_background": "light"
     },
     "output_type": "display_data"
    }
   ],
   "source": [
    "sns.countplot(x=\"Survived\", data=titanic_data)"
   ]
  },
  {
   "cell_type": "code",
   "execution_count": 17,
   "metadata": {},
   "outputs": [
    {
     "data": {
      "text/plain": [
       "<matplotlib.axes._subplots.AxesSubplot at 0x7f56a3568b38>"
      ]
     },
     "execution_count": 17,
     "metadata": {},
     "output_type": "execute_result"
    },
    {
     "data": {
      "image/png": "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\n",
      "text/plain": [
       "<Figure size 432x288 with 1 Axes>"
      ]
     },
     "metadata": {
      "needs_background": "light"
     },
     "output_type": "display_data"
    }
   ],
   "source": [
    "sns.countplot(x=\"Survived\", hue=\"Pclass\", data=titanic_data)"
   ]
  },
  {
   "cell_type": "code",
   "execution_count": 18,
   "metadata": {},
   "outputs": [
    {
     "data": {
      "text/plain": [
       "<matplotlib.axes._subplots.AxesSubplot at 0x7f56a3537710>"
      ]
     },
     "execution_count": 18,
     "metadata": {},
     "output_type": "execute_result"
    },
    {
     "data": {
      "image/png": "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\n",
      "text/plain": [
       "<Figure size 432x288 with 1 Axes>"
      ]
     },
     "metadata": {
      "needs_background": "light"
     },
     "output_type": "display_data"
    }
   ],
   "source": [
    "sns.countplot(x=\"Survived\", hue=\"Sex\", data=titanic_data)"
   ]
  },
  {
   "cell_type": "code",
   "execution_count": 19,
   "metadata": {},
   "outputs": [
    {
     "data": {
      "text/plain": [
       "<matplotlib.axes._subplots.AxesSubplot at 0x7f569e0a27f0>"
      ]
     },
     "execution_count": 19,
     "metadata": {},
     "output_type": "execute_result"
    },
    {
     "data": {
      "image/png": "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\n",
      "text/plain": [
       "<Figure size 432x288 with 1 Axes>"
      ]
     },
     "metadata": {
      "needs_background": "light"
     },
     "output_type": "display_data"
    }
   ],
   "source": [
    "titanic_data['Age'].plot.hist()"
   ]
  },
  {
   "cell_type": "code",
   "execution_count": 23,
   "metadata": {},
   "outputs": [
    {
     "name": "stdout",
     "output_type": "stream",
     "text": [
      "<class 'pandas.core.frame.DataFrame'>\n",
      "RangeIndex: 887 entries, 0 to 886\n",
      "Data columns (total 8 columns):\n",
      "Survived                   887 non-null int64\n",
      "Pclass                     887 non-null int64\n",
      "Name                       887 non-null object\n",
      "Sex                        887 non-null object\n",
      "Age                        887 non-null float64\n",
      "Siblings/Spouses Aboard    887 non-null int64\n",
      "Parents/Children Aboard    887 non-null int64\n",
      "Fare                       887 non-null float64\n",
      "dtypes: float64(2), int64(4), object(2)\n",
      "memory usage: 55.5+ KB\n"
     ]
    }
   ],
   "source": [
    "titanic_data.info()"
   ]
  },
  {
   "cell_type": "code",
   "execution_count": 24,
   "metadata": {},
   "outputs": [
    {
     "data": {
      "text/plain": [
       "<matplotlib.axes._subplots.AxesSubplot at 0x7f569da57b00>"
      ]
     },
     "execution_count": 24,
     "metadata": {},
     "output_type": "execute_result"
    },
    {
     "data": {
      "image/png": "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\n",
      "text/plain": [
       "<Figure size 432x288 with 1 Axes>"
      ]
     },
     "metadata": {
      "needs_background": "light"
     },
     "output_type": "display_data"
    }
   ],
   "source": [
    "titanic_data['Siblings/Spouses Aboard'].plot.hist()"
   ]
  },
  {
   "cell_type": "code",
   "execution_count": 25,
   "metadata": {},
   "outputs": [
    {
     "data": {
      "text/plain": [
       "<matplotlib.axes._subplots.AxesSubplot at 0x7f569da3bbe0>"
      ]
     },
     "execution_count": 25,
     "metadata": {},
     "output_type": "execute_result"
    },
    {
     "data": {
      "image/png": "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\n",
      "text/plain": [
       "<Figure size 432x288 with 1 Axes>"
      ]
     },
     "metadata": {
      "needs_background": "light"
     },
     "output_type": "display_data"
    }
   ],
   "source": [
    "titanic_data['Parents/Children Aboard'].plot.hist()"
   ]
  },
  {
   "cell_type": "code",
   "execution_count": 30,
   "metadata": {},
   "outputs": [
    {
     "data": {
      "text/html": [
       "<div>\n",
       "<style scoped>\n",
       "    .dataframe tbody tr th:only-of-type {\n",
       "        vertical-align: middle;\n",
       "    }\n",
       "\n",
       "    .dataframe tbody tr th {\n",
       "        vertical-align: top;\n",
       "    }\n",
       "\n",
       "    .dataframe thead th {\n",
       "        text-align: right;\n",
       "    }\n",
       "</style>\n",
       "<table border=\"1\" class=\"dataframe\">\n",
       "  <thead>\n",
       "    <tr style=\"text-align: right;\">\n",
       "      <th></th>\n",
       "      <th>survived</th>\n",
       "      <th>pclass</th>\n",
       "      <th>sex</th>\n",
       "      <th>age</th>\n",
       "      <th>sibsp</th>\n",
       "      <th>parch</th>\n",
       "      <th>fare</th>\n",
       "      <th>embarked</th>\n",
       "      <th>class</th>\n",
       "      <th>who</th>\n",
       "      <th>adult_male</th>\n",
       "      <th>deck</th>\n",
       "      <th>embark_town</th>\n",
       "      <th>alive</th>\n",
       "      <th>alone</th>\n",
       "    </tr>\n",
       "  </thead>\n",
       "  <tbody>\n",
       "    <tr>\n",
       "      <th>0</th>\n",
       "      <td>0</td>\n",
       "      <td>3</td>\n",
       "      <td>male</td>\n",
       "      <td>22.0</td>\n",
       "      <td>1</td>\n",
       "      <td>0</td>\n",
       "      <td>7.2500</td>\n",
       "      <td>S</td>\n",
       "      <td>Third</td>\n",
       "      <td>man</td>\n",
       "      <td>True</td>\n",
       "      <td>NaN</td>\n",
       "      <td>Southampton</td>\n",
       "      <td>no</td>\n",
       "      <td>False</td>\n",
       "    </tr>\n",
       "    <tr>\n",
       "      <th>1</th>\n",
       "      <td>1</td>\n",
       "      <td>1</td>\n",
       "      <td>female</td>\n",
       "      <td>38.0</td>\n",
       "      <td>1</td>\n",
       "      <td>0</td>\n",
       "      <td>71.2833</td>\n",
       "      <td>C</td>\n",
       "      <td>First</td>\n",
       "      <td>woman</td>\n",
       "      <td>False</td>\n",
       "      <td>C</td>\n",
       "      <td>Cherbourg</td>\n",
       "      <td>yes</td>\n",
       "      <td>False</td>\n",
       "    </tr>\n",
       "    <tr>\n",
       "      <th>2</th>\n",
       "      <td>1</td>\n",
       "      <td>3</td>\n",
       "      <td>female</td>\n",
       "      <td>26.0</td>\n",
       "      <td>0</td>\n",
       "      <td>0</td>\n",
       "      <td>7.9250</td>\n",
       "      <td>S</td>\n",
       "      <td>Third</td>\n",
       "      <td>woman</td>\n",
       "      <td>False</td>\n",
       "      <td>NaN</td>\n",
       "      <td>Southampton</td>\n",
       "      <td>yes</td>\n",
       "      <td>True</td>\n",
       "    </tr>\n",
       "    <tr>\n",
       "      <th>3</th>\n",
       "      <td>1</td>\n",
       "      <td>1</td>\n",
       "      <td>female</td>\n",
       "      <td>35.0</td>\n",
       "      <td>1</td>\n",
       "      <td>0</td>\n",
       "      <td>53.1000</td>\n",
       "      <td>S</td>\n",
       "      <td>First</td>\n",
       "      <td>woman</td>\n",
       "      <td>False</td>\n",
       "      <td>C</td>\n",
       "      <td>Southampton</td>\n",
       "      <td>yes</td>\n",
       "      <td>False</td>\n",
       "    </tr>\n",
       "    <tr>\n",
       "      <th>4</th>\n",
       "      <td>0</td>\n",
       "      <td>3</td>\n",
       "      <td>male</td>\n",
       "      <td>35.0</td>\n",
       "      <td>0</td>\n",
       "      <td>0</td>\n",
       "      <td>8.0500</td>\n",
       "      <td>S</td>\n",
       "      <td>Third</td>\n",
       "      <td>man</td>\n",
       "      <td>True</td>\n",
       "      <td>NaN</td>\n",
       "      <td>Southampton</td>\n",
       "      <td>no</td>\n",
       "      <td>True</td>\n",
       "    </tr>\n",
       "  </tbody>\n",
       "</table>\n",
       "</div>"
      ],
      "text/plain": [
       "   survived  pclass     sex   age  sibsp  parch     fare embarked  class  \\\n",
       "0         0       3    male  22.0      1      0   7.2500        S  Third   \n",
       "1         1       1  female  38.0      1      0  71.2833        C  First   \n",
       "2         1       3  female  26.0      0      0   7.9250        S  Third   \n",
       "3         1       1  female  35.0      1      0  53.1000        S  First   \n",
       "4         0       3    male  35.0      0      0   8.0500        S  Third   \n",
       "\n",
       "     who  adult_male deck  embark_town alive  alone  \n",
       "0    man        True  NaN  Southampton    no  False  \n",
       "1  woman       False    C    Cherbourg   yes  False  \n",
       "2  woman       False  NaN  Southampton   yes   True  \n",
       "3  woman       False    C  Southampton   yes  False  \n",
       "4    man        True  NaN  Southampton    no   True  "
      ]
     },
     "execution_count": 30,
     "metadata": {},
     "output_type": "execute_result"
    }
   ],
   "source": [
    "titanic = sns.load_dataset(\"titanic\")\n",
    "titanic.head()"
   ]
  },
  {
   "cell_type": "code",
   "execution_count": 38,
   "metadata": {},
   "outputs": [],
   "source": [
    "titanic = titanic.drop(['who','adult_male','deck','embark_town','alive','alone'], axis=1)"
   ]
  },
  {
   "cell_type": "code",
   "execution_count": 70,
   "metadata": {},
   "outputs": [],
   "source": [
    "titanic = titanic.drop(['class'], axis=1)"
   ]
  },
  {
   "cell_type": "markdown",
   "metadata": {},
   "source": [
    "## Data Wrangling"
   ]
  },
  {
   "cell_type": "code",
   "execution_count": 41,
   "metadata": {},
   "outputs": [
    {
     "data": {
      "text/plain": [
       "survived      0\n",
       "pclass        0\n",
       "sex           0\n",
       "age         177\n",
       "sibsp         0\n",
       "parch         0\n",
       "fare          0\n",
       "embarked      2\n",
       "class         0\n",
       "dtype: int64"
      ]
     },
     "execution_count": 41,
     "metadata": {},
     "output_type": "execute_result"
    }
   ],
   "source": [
    "titanic.isnull().sum()"
   ]
  },
  {
   "cell_type": "code",
   "execution_count": 43,
   "metadata": {},
   "outputs": [
    {
     "data": {
      "text/plain": [
       "<matplotlib.axes._subplots.AxesSubplot at 0x7f569d1f58d0>"
      ]
     },
     "execution_count": 43,
     "metadata": {},
     "output_type": "execute_result"
    },
    {
     "data": {
      "image/png": "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\n",
      "text/plain": [
       "<Figure size 432x288 with 1 Axes>"
      ]
     },
     "metadata": {
      "needs_background": "light"
     },
     "output_type": "display_data"
    }
   ],
   "source": [
    "sns.boxplot(x=\"pclass\", y='age', data=titanic)"
   ]
  },
  {
   "cell_type": "code",
   "execution_count": 44,
   "metadata": {},
   "outputs": [
    {
     "data": {
      "text/plain": [
       "<matplotlib.axes._subplots.AxesSubplot at 0x7f569d0d9358>"
      ]
     },
     "execution_count": 44,
     "metadata": {},
     "output_type": "execute_result"
    },
    {
     "data": {
      "image/png": "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\n",
      "text/plain": [
       "<Figure size 432x288 with 1 Axes>"
      ]
     },
     "metadata": {
      "needs_background": "light"
     },
     "output_type": "display_data"
    }
   ],
   "source": [
    "sns.boxplot(x=\"sex\", y='age', data=titanic)"
   ]
  },
  {
   "cell_type": "markdown",
   "metadata": {},
   "source": [
    "## Replacing missing value of age to mean and drop 2 rows of embarked"
   ]
  },
  {
   "cell_type": "code",
   "execution_count": 56,
   "metadata": {},
   "outputs": [],
   "source": [
    "mean_age = titanic['age'].mean()\n",
    "titanic['age'].fillna(mean_age, inplace=True)"
   ]
  },
  {
   "cell_type": "code",
   "execution_count": 64,
   "metadata": {},
   "outputs": [],
   "source": [
    "titanic.dropna(subset=['embarked'], axis=0, inplace=True)"
   ]
  },
  {
   "cell_type": "code",
   "execution_count": 65,
   "metadata": {},
   "outputs": [
    {
     "data": {
      "text/plain": [
       "survived    0\n",
       "pclass      0\n",
       "sex         0\n",
       "age         0\n",
       "sibsp       0\n",
       "parch       0\n",
       "fare        0\n",
       "embarked    0\n",
       "class       0\n",
       "dtype: int64"
      ]
     },
     "execution_count": 65,
     "metadata": {},
     "output_type": "execute_result"
    }
   ],
   "source": [
    "titanic.isnull().sum()"
   ]
  },
  {
   "cell_type": "code",
   "execution_count": 66,
   "metadata": {},
   "outputs": [
    {
     "name": "stdout",
     "output_type": "stream",
     "text": [
      "<class 'pandas.core.frame.DataFrame'>\n",
      "Int64Index: 889 entries, 0 to 890\n",
      "Data columns (total 9 columns):\n",
      "survived    889 non-null int64\n",
      "pclass      889 non-null int64\n",
      "sex         889 non-null object\n",
      "age         889 non-null float64\n",
      "sibsp       889 non-null int64\n",
      "parch       889 non-null int64\n",
      "fare        889 non-null float64\n",
      "embarked    889 non-null object\n",
      "class       889 non-null category\n",
      "dtypes: category(1), float64(2), int64(4), object(2)\n",
      "memory usage: 63.5+ KB\n"
     ]
    }
   ],
   "source": [
    "titanic.info()"
   ]
  },
  {
   "cell_type": "markdown",
   "metadata": {},
   "source": [
    "## Turning categorical variables into quantitative variables"
   ]
  },
  {
   "cell_type": "code",
   "execution_count": 72,
   "metadata": {},
   "outputs": [],
   "source": [
    "sex = pd.get_dummies(titanic['sex'], drop_first=True)\n",
    "embarked = pd.get_dummies(titanic['embarked'], drop_first=True)\n",
    "pcl = pd.get_dummies(titanic['pclass'], drop_first=True)"
   ]
  },
  {
   "cell_type": "code",
   "execution_count": 73,
   "metadata": {},
   "outputs": [],
   "source": [
    "titanic = pd.concat([titanic, sex, embarked, pcl], axis=1)"
   ]
  },
  {
   "cell_type": "code",
   "execution_count": 74,
   "metadata": {},
   "outputs": [
    {
     "data": {
      "text/html": [
       "<div>\n",
       "<style scoped>\n",
       "    .dataframe tbody tr th:only-of-type {\n",
       "        vertical-align: middle;\n",
       "    }\n",
       "\n",
       "    .dataframe tbody tr th {\n",
       "        vertical-align: top;\n",
       "    }\n",
       "\n",
       "    .dataframe thead th {\n",
       "        text-align: right;\n",
       "    }\n",
       "</style>\n",
       "<table border=\"1\" class=\"dataframe\">\n",
       "  <thead>\n",
       "    <tr style=\"text-align: right;\">\n",
       "      <th></th>\n",
       "      <th>survived</th>\n",
       "      <th>pclass</th>\n",
       "      <th>sex</th>\n",
       "      <th>age</th>\n",
       "      <th>sibsp</th>\n",
       "      <th>parch</th>\n",
       "      <th>fare</th>\n",
       "      <th>embarked</th>\n",
       "      <th>male</th>\n",
       "      <th>Q</th>\n",
       "      <th>S</th>\n",
       "      <th>2</th>\n",
       "      <th>3</th>\n",
       "    </tr>\n",
       "  </thead>\n",
       "  <tbody>\n",
       "    <tr>\n",
       "      <th>0</th>\n",
       "      <td>0</td>\n",
       "      <td>3</td>\n",
       "      <td>male</td>\n",
       "      <td>22.0</td>\n",
       "      <td>1</td>\n",
       "      <td>0</td>\n",
       "      <td>7.2500</td>\n",
       "      <td>S</td>\n",
       "      <td>1</td>\n",
       "      <td>0</td>\n",
       "      <td>1</td>\n",
       "      <td>0</td>\n",
       "      <td>1</td>\n",
       "    </tr>\n",
       "    <tr>\n",
       "      <th>1</th>\n",
       "      <td>1</td>\n",
       "      <td>1</td>\n",
       "      <td>female</td>\n",
       "      <td>38.0</td>\n",
       "      <td>1</td>\n",
       "      <td>0</td>\n",
       "      <td>71.2833</td>\n",
       "      <td>C</td>\n",
       "      <td>0</td>\n",
       "      <td>0</td>\n",
       "      <td>0</td>\n",
       "      <td>0</td>\n",
       "      <td>0</td>\n",
       "    </tr>\n",
       "    <tr>\n",
       "      <th>2</th>\n",
       "      <td>1</td>\n",
       "      <td>3</td>\n",
       "      <td>female</td>\n",
       "      <td>26.0</td>\n",
       "      <td>0</td>\n",
       "      <td>0</td>\n",
       "      <td>7.9250</td>\n",
       "      <td>S</td>\n",
       "      <td>0</td>\n",
       "      <td>0</td>\n",
       "      <td>1</td>\n",
       "      <td>0</td>\n",
       "      <td>1</td>\n",
       "    </tr>\n",
       "    <tr>\n",
       "      <th>3</th>\n",
       "      <td>1</td>\n",
       "      <td>1</td>\n",
       "      <td>female</td>\n",
       "      <td>35.0</td>\n",
       "      <td>1</td>\n",
       "      <td>0</td>\n",
       "      <td>53.1000</td>\n",
       "      <td>S</td>\n",
       "      <td>0</td>\n",
       "      <td>0</td>\n",
       "      <td>1</td>\n",
       "      <td>0</td>\n",
       "      <td>0</td>\n",
       "    </tr>\n",
       "    <tr>\n",
       "      <th>4</th>\n",
       "      <td>0</td>\n",
       "      <td>3</td>\n",
       "      <td>male</td>\n",
       "      <td>35.0</td>\n",
       "      <td>0</td>\n",
       "      <td>0</td>\n",
       "      <td>8.0500</td>\n",
       "      <td>S</td>\n",
       "      <td>1</td>\n",
       "      <td>0</td>\n",
       "      <td>1</td>\n",
       "      <td>0</td>\n",
       "      <td>1</td>\n",
       "    </tr>\n",
       "  </tbody>\n",
       "</table>\n",
       "</div>"
      ],
      "text/plain": [
       "   survived  pclass     sex   age  sibsp  parch     fare embarked  male  Q  S  \\\n",
       "0         0       3    male  22.0      1      0   7.2500        S     1  0  1   \n",
       "1         1       1  female  38.0      1      0  71.2833        C     0  0  0   \n",
       "2         1       3  female  26.0      0      0   7.9250        S     0  0  1   \n",
       "3         1       1  female  35.0      1      0  53.1000        S     0  0  1   \n",
       "4         0       3    male  35.0      0      0   8.0500        S     1  0  1   \n",
       "\n",
       "   2  3  \n",
       "0  0  1  \n",
       "1  0  0  \n",
       "2  0  1  \n",
       "3  0  0  \n",
       "4  0  1  "
      ]
     },
     "execution_count": 74,
     "metadata": {},
     "output_type": "execute_result"
    }
   ],
   "source": [
    "titanic.head()"
   ]
  },
  {
   "cell_type": "code",
   "execution_count": 75,
   "metadata": {},
   "outputs": [],
   "source": [
    "titanic.drop(['pclass', 'sex', 'embarked'], axis=1, inplace=True)"
   ]
  },
  {
   "cell_type": "code",
   "execution_count": 76,
   "metadata": {},
   "outputs": [
    {
     "data": {
      "text/html": [
       "<div>\n",
       "<style scoped>\n",
       "    .dataframe tbody tr th:only-of-type {\n",
       "        vertical-align: middle;\n",
       "    }\n",
       "\n",
       "    .dataframe tbody tr th {\n",
       "        vertical-align: top;\n",
       "    }\n",
       "\n",
       "    .dataframe thead th {\n",
       "        text-align: right;\n",
       "    }\n",
       "</style>\n",
       "<table border=\"1\" class=\"dataframe\">\n",
       "  <thead>\n",
       "    <tr style=\"text-align: right;\">\n",
       "      <th></th>\n",
       "      <th>survived</th>\n",
       "      <th>age</th>\n",
       "      <th>sibsp</th>\n",
       "      <th>parch</th>\n",
       "      <th>fare</th>\n",
       "      <th>male</th>\n",
       "      <th>Q</th>\n",
       "      <th>S</th>\n",
       "      <th>2</th>\n",
       "      <th>3</th>\n",
       "    </tr>\n",
       "  </thead>\n",
       "  <tbody>\n",
       "    <tr>\n",
       "      <th>0</th>\n",
       "      <td>0</td>\n",
       "      <td>22.0</td>\n",
       "      <td>1</td>\n",
       "      <td>0</td>\n",
       "      <td>7.2500</td>\n",
       "      <td>1</td>\n",
       "      <td>0</td>\n",
       "      <td>1</td>\n",
       "      <td>0</td>\n",
       "      <td>1</td>\n",
       "    </tr>\n",
       "    <tr>\n",
       "      <th>1</th>\n",
       "      <td>1</td>\n",
       "      <td>38.0</td>\n",
       "      <td>1</td>\n",
       "      <td>0</td>\n",
       "      <td>71.2833</td>\n",
       "      <td>0</td>\n",
       "      <td>0</td>\n",
       "      <td>0</td>\n",
       "      <td>0</td>\n",
       "      <td>0</td>\n",
       "    </tr>\n",
       "    <tr>\n",
       "      <th>2</th>\n",
       "      <td>1</td>\n",
       "      <td>26.0</td>\n",
       "      <td>0</td>\n",
       "      <td>0</td>\n",
       "      <td>7.9250</td>\n",
       "      <td>0</td>\n",
       "      <td>0</td>\n",
       "      <td>1</td>\n",
       "      <td>0</td>\n",
       "      <td>1</td>\n",
       "    </tr>\n",
       "    <tr>\n",
       "      <th>3</th>\n",
       "      <td>1</td>\n",
       "      <td>35.0</td>\n",
       "      <td>1</td>\n",
       "      <td>0</td>\n",
       "      <td>53.1000</td>\n",
       "      <td>0</td>\n",
       "      <td>0</td>\n",
       "      <td>1</td>\n",
       "      <td>0</td>\n",
       "      <td>0</td>\n",
       "    </tr>\n",
       "    <tr>\n",
       "      <th>4</th>\n",
       "      <td>0</td>\n",
       "      <td>35.0</td>\n",
       "      <td>0</td>\n",
       "      <td>0</td>\n",
       "      <td>8.0500</td>\n",
       "      <td>1</td>\n",
       "      <td>0</td>\n",
       "      <td>1</td>\n",
       "      <td>0</td>\n",
       "      <td>1</td>\n",
       "    </tr>\n",
       "  </tbody>\n",
       "</table>\n",
       "</div>"
      ],
      "text/plain": [
       "   survived   age  sibsp  parch     fare  male  Q  S  2  3\n",
       "0         0  22.0      1      0   7.2500     1  0  1  0  1\n",
       "1         1  38.0      1      0  71.2833     0  0  0  0  0\n",
       "2         1  26.0      0      0   7.9250     0  0  1  0  1\n",
       "3         1  35.0      1      0  53.1000     0  0  1  0  0\n",
       "4         0  35.0      0      0   8.0500     1  0  1  0  1"
      ]
     },
     "execution_count": 76,
     "metadata": {},
     "output_type": "execute_result"
    }
   ],
   "source": [
    "titanic.head()"
   ]
  },
  {
   "cell_type": "markdown",
   "metadata": {},
   "source": [
    "## Train Data and Model Development"
   ]
  },
  {
   "cell_type": "code",
   "execution_count": 77,
   "metadata": {},
   "outputs": [],
   "source": [
    "X = titanic.drop(['survived'], axis=1)\n",
    "y = titanic['survived']"
   ]
  },
  {
   "cell_type": "code",
   "execution_count": 78,
   "metadata": {},
   "outputs": [],
   "source": [
    "from sklearn.model_selection import train_test_split"
   ]
  },
  {
   "cell_type": "code",
   "execution_count": 79,
   "metadata": {},
   "outputs": [],
   "source": [
    "X_train, X_test, y_train, y_test = train_test_split(X, y, test_size=0.3, random_state=0)"
   ]
  },
  {
   "cell_type": "code",
   "execution_count": 80,
   "metadata": {},
   "outputs": [],
   "source": [
    "from sklearn.linear_model import LogisticRegression"
   ]
  },
  {
   "cell_type": "code",
   "execution_count": 81,
   "metadata": {},
   "outputs": [],
   "source": [
    "lr = LogisticRegression()"
   ]
  },
  {
   "cell_type": "code",
   "execution_count": 82,
   "metadata": {},
   "outputs": [
    {
     "data": {
      "text/plain": [
       "LogisticRegression(C=1.0, class_weight=None, dual=False, fit_intercept=True,\n",
       "          intercept_scaling=1, max_iter=100, multi_class='warn',\n",
       "          n_jobs=None, penalty='l2', random_state=None, solver='warn',\n",
       "          tol=0.0001, verbose=0, warm_start=False)"
      ]
     },
     "execution_count": 82,
     "metadata": {},
     "output_type": "execute_result"
    }
   ],
   "source": [
    "lr.fit(X_train, y_train)"
   ]
  },
  {
   "cell_type": "code",
   "execution_count": 83,
   "metadata": {},
   "outputs": [],
   "source": [
    "predictions = lr.predict(X_test)"
   ]
  },
  {
   "cell_type": "code",
   "execution_count": 84,
   "metadata": {},
   "outputs": [],
   "source": [
    "from sklearn.metrics import classification_report"
   ]
  },
  {
   "cell_type": "code",
   "execution_count": 85,
   "metadata": {},
   "outputs": [
    {
     "data": {
      "text/plain": [
       "'              precision    recall  f1-score   support\\n\\n           0       0.78      0.85      0.81       157\\n           1       0.76      0.65      0.70       110\\n\\n   micro avg       0.77      0.77      0.77       267\\n   macro avg       0.77      0.75      0.76       267\\nweighted avg       0.77      0.77      0.77       267\\n'"
      ]
     },
     "execution_count": 85,
     "metadata": {},
     "output_type": "execute_result"
    }
   ],
   "source": [
    "classification_report(y_test, predictions)"
   ]
  },
  {
   "cell_type": "code",
   "execution_count": 86,
   "metadata": {},
   "outputs": [],
   "source": [
    "from sklearn.metrics import confusion_matrix"
   ]
  },
  {
   "cell_type": "code",
   "execution_count": 87,
   "metadata": {},
   "outputs": [
    {
     "data": {
      "text/plain": [
       "array([[134,  23],\n",
       "       [ 38,  72]])"
      ]
     },
     "execution_count": 87,
     "metadata": {},
     "output_type": "execute_result"
    }
   ],
   "source": [
    "confusion_matrix(y_test, predictions)"
   ]
  },
  {
   "cell_type": "markdown",
   "metadata": {},
   "source": [
    "## Confusion matrix\n",
    "\n",
    "            PN   PY\n",
    "        AN\n",
    "        AY\n",
    "        \n",
    "where PN is prediction no and AN is actual no\n",
    "using accuracy score to automate the computation of confusion matrix\n",
    "or by manually is (ANPN * AYPY) / sum "
   ]
  },
  {
   "cell_type": "code",
   "execution_count": 88,
   "metadata": {},
   "outputs": [],
   "source": [
    "from sklearn.metrics import accuracy_score"
   ]
  },
  {
   "cell_type": "code",
   "execution_count": 89,
   "metadata": {},
   "outputs": [
    {
     "data": {
      "text/plain": [
       "0.7715355805243446"
      ]
     },
     "execution_count": 89,
     "metadata": {},
     "output_type": "execute_result"
    }
   ],
   "source": [
    "accuracy_score(y_test, predictions)"
   ]
  },
  {
   "cell_type": "code",
   "execution_count": null,
   "metadata": {},
   "outputs": [],
   "source": []
  }
 ],
 "metadata": {
  "kernelspec": {
   "display_name": "Python 3",
   "language": "python",
   "name": "python3"
  },
  "language_info": {
   "codemirror_mode": {
    "name": "ipython",
    "version": 3
   },
   "file_extension": ".py",
   "mimetype": "text/x-python",
   "name": "python",
   "nbconvert_exporter": "python",
   "pygments_lexer": "ipython3",
   "version": "3.7.3"
  }
 },
 "nbformat": 4,
 "nbformat_minor": 2
}
